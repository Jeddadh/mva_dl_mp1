{
 "cells": [
  {
   "cell_type": "markdown",
   "metadata": {},
   "source": [
    "**You may need to install [OpenCV](https://pypi.python.org/pypi/opencv-python) and [scikit-video](http://www.scikit-video.org/stable/).**"
   ]
  },
  {
   "cell_type": "code",
   "execution_count": 1,
   "metadata": {},
   "outputs": [
    {
     "name": "stderr",
     "output_type": "stream",
     "text": [
      "Using TensorFlow backend.\n"
     ]
    }
   ],
   "source": [
    "import keras\n",
    "import numpy as np\n",
    "import io\n",
    "import base64\n",
    "from IPython.display import HTML\n",
    "import skvideo.io\n",
    "import cv2\n",
    "import json\n",
    "\n",
    "from keras.models import Sequential,model_from_json\n",
    "from keras.layers.core import Dense\n",
    "from keras.optimizers import sgd\n",
    "from keras.layers import Conv2D, MaxPooling2D, Activation, AveragePooling2D,Reshape,BatchNormalization,Flatten\n",
    "\n",
    "import matplotlib.pyplot as plt\n",
    "%matplotlib inline  "
   ]
  },
  {
   "cell_type": "markdown",
   "metadata": {},
   "source": [
    "# MiniProject #3: Deep Reinforcement Learning"
   ]
  },
  {
   "cell_type": "markdown",
   "metadata": {},
   "source": [
    "__Notations__: $E_p$ is the expectation under probability $p$. Please justify each of your answer and widely comment your code."
   ]
  },
  {
   "cell_type": "markdown",
   "metadata": {},
   "source": [
    "# Context"
   ]
  },
  {
   "cell_type": "markdown",
   "metadata": {},
   "source": [
    "In a reinforcement learning algorithm, we modelize each step $t$ as an action $a_t$ obtained from a state $s_t$, i.e. $\\{(a_{t},s_{t})_{t\\leq T}\\}$ having the Markov property. We consider a discount factor $\\gamma \\in [0,1]$ that ensures convergence. The goal is to find among all the policies $\\pi$, one that maximizes the expected reward:\n",
    "\n",
    "\\begin{equation*}\n",
    "R(\\pi)=\\sum_{t\\leq T}E_{p^{\\pi}}[\\gamma^t r(s_{t},a_{t})] \\> ,\n",
    "\\end{equation*}\n",
    "\n",
    "where: \n",
    "\\begin{equation*}p^{\\pi}(a_{0},a_{1},s_{1},...,a_{T},s_{T})=p(a_{0})\\prod_{t=1}^{T}\\pi(a_{t}|s_{t})p(s_{t+1}|s_{t},a_{t}) \\> .\n",
    "\\end{equation*}\n",
    "\n",
    "We note the $Q$-function:\n",
    "\n",
    "\\begin{equation*}Q^\\pi(s,a)=E_{p^{\\pi}}[\\sum_{t\\leq T}\\gamma^{t}r(s_{t},a_{t})|s_{0}=s,a_{0}=a] \\> .\n",
    "\\end{equation*}\n",
    "\n",
    "Thus, the optimal Q function is:\n",
    "\\begin{equation*}\n",
    "Q^*(s,a)=\\max_{\\pi}Q^\\pi(s,a) \\> .\n",
    "\\end{equation*}\n",
    "\n",
    "In this project, we will apply the deep reinforcement learning techniques to a simple game: an agent will have to learn from scratch a policy that will permit it maximizing a reward."
   ]
  },
  {
   "cell_type": "markdown",
   "metadata": {},
   "source": [
    "## The environment, the agent and the game"
   ]
  },
  {
   "cell_type": "markdown",
   "metadata": {},
   "source": [
    "### The environment"
   ]
  },
  {
   "cell_type": "markdown",
   "metadata": {},
   "source": [
    "```Environment``` is an abstract class that represents the states, rewards, and actions to obtain the new state."
   ]
  },
  {
   "cell_type": "code",
   "execution_count": 2,
   "metadata": {},
   "outputs": [],
   "source": [
    "class Environment(object):\n",
    "    def __init__(self):\n",
    "        pass\n",
    "\n",
    "    def act(self, act):\n",
    "        \"\"\"\n",
    "        One can act on the environment and obtain its reaction:\n",
    "        - the new state\n",
    "        - the reward of the new state\n",
    "        - should we continue the game?\n",
    "\n",
    "        :return: state, reward, game_over\n",
    "        \"\"\"\n",
    "        pass\n",
    "\n",
    "\n",
    "    def reset(self):\n",
    "        \"\"\"\n",
    "        Reinitialize the environment to a random state and returns\n",
    "        the original state\n",
    "\n",
    "        :return: state\n",
    "        \"\"\"\n",
    "        pass\n",
    "    \n",
    "    def draw(self):\n",
    "        \"\"\"\n",
    "        Visualize in the console or graphically the current state\n",
    "        \"\"\"\n",
    "        pass"
   ]
  },
  {
   "cell_type": "markdown",
   "metadata": {},
   "source": [
    "The method ```act``` allows to act on the environment at a given state $s_t$ (stored internally), via action $a_t$. The method will return the new state $s_{t+1}$, the reward $r(s_{t},a_{t})$ and determines if $t\\leq T$ (*game_over*).\n",
    "\n",
    "The method ```reset``` simply reinitializes the environment to a random state $s_0$.\n",
    "\n",
    "The method ```draw``` displays the current state $s_t$ (this is useful to check the behavior of the Agent).\n",
    "\n",
    "We modelize $s_t$ as a tensor, while $a_t$ is an integer."
   ]
  },
  {
   "cell_type": "markdown",
   "metadata": {},
   "source": [
    "### The Agent"
   ]
  },
  {
   "cell_type": "markdown",
   "metadata": {},
   "source": [
    "The goal of the ```Agent``` is to interact with the ```Environment``` by proposing actions $a_t$ obtained from a given state $s_t$ to attempt to maximize its __reward__ $r(s_t,a_t)$. We propose the following abstract class:"
   ]
  },
  {
   "cell_type": "code",
   "execution_count": 3,
   "metadata": {},
   "outputs": [],
   "source": [
    "class Agent(object):\n",
    "    def __init__(self, epsilon=0.1, n_action=4):\n",
    "        self.epsilon = epsilon\n",
    "        self.n_action = n_action\n",
    "    \n",
    "    def set_epsilon(self,e):\n",
    "        self.epsilon = e\n",
    "\n",
    "    def act(self,s,train=True):\n",
    "        \"\"\" This function should return the next action to do:\n",
    "        an integer between 0 and 4 (not included) with a random exploration of epsilon\"\"\"\n",
    "        if train:\n",
    "            if np.random.rand() <= self.epsilon:\n",
    "                a = np.random.randint(0, self.n_action, size=1)[0]\n",
    "            else:\n",
    "                a = self.learned_act(s)\n",
    "        else: # in some cases, this can improve the performance.. remove it if poor performances\n",
    "            a = self.learned_act(s)\n",
    "\n",
    "        return a\n",
    "\n",
    "    def learned_act(self,s):\n",
    "        \"\"\" Act via the policy of the agent, from a given state s\n",
    "        it proposes an action a\"\"\"\n",
    "        pass\n",
    "\n",
    "    def reinforce(self, s, n_s, a, r, game_over_):\n",
    "        \"\"\" This function is the core of the learning algorithm. \n",
    "        It takes as an input the current state s_, the next state n_s_\n",
    "        the action a_ used to move from s_ to n_s_ and the reward r_.\n",
    "        \n",
    "        Its goal is to learn a policy.\n",
    "        \"\"\"\n",
    "        pass\n",
    "\n",
    "    def save(self):\n",
    "        \"\"\" This function returns basic stats if applicable: the\n",
    "        loss and/or the model\"\"\"\n",
    "        pass\n",
    "\n",
    "    def load(self):\n",
    "        \"\"\" This function allows to restore a model\"\"\"\n",
    "        pass"
   ]
  },
  {
   "cell_type": "markdown",
   "metadata": {},
   "source": [
    "***\n",
    "__Question 1__:\n",
    "Explain the function act. Why is ```epsilon``` essential?"
   ]
  },
  {
   "cell_type": "markdown",
   "metadata": {},
   "source": [
    "epsilon gives the agent the possibility to explore other actions that might improve the reward and not to be stacked on the learned policy"
   ]
  },
  {
   "cell_type": "markdown",
   "metadata": {},
   "source": [
    "***\n",
    "### The Game"
   ]
  },
  {
   "cell_type": "markdown",
   "metadata": {},
   "source": [
    "The ```Agent``` and the ```Environment``` work in an interlaced way as in the following (take some time to understand this code as it is the core of the project)\n",
    "\n",
    "```python\n",
    "\n",
    "epoch = 300\n",
    "env = Environment()\n",
    "agent = Agent()\n",
    "\n",
    "\n",
    "# Number of won games\n",
    "score = 0\n",
    "loss = 0\n",
    "\n",
    "\n",
    "for e in range(epoch):\n",
    "    # At each epoch, we restart to a fresh game and get the initial state\n",
    "    state = env.reset()\n",
    "    # This assumes that the games will end\n",
    "    game_over = False\n",
    "\n",
    "    win = 0\n",
    "    lose = 0\n",
    "    \n",
    "    while not game_over:\n",
    "        # The agent performs an action\n",
    "        action = agent.act(state)\n",
    "\n",
    "        # Apply an action to the environment, get the next state, the reward\n",
    "        # and if the games end\n",
    "        prev_state = state\n",
    "        state, reward, game_over = env.act(action)\n",
    "\n",
    "        # Update the counters\n",
    "        if reward > 0:\n",
    "            win = win + reward\n",
    "        if reward < 0:\n",
    "            lose = lose -reward\n",
    "\n",
    "        # Apply the reinforcement strategy\n",
    "        loss = agent.reinforce(prev_state, state,  action, reward, game_over)\n",
    "\n",
    "    # Save as a mp4\n",
    "    if e % 10 == 0:\n",
    "        env.draw(e)\n",
    "\n",
    "    # Update stats\n",
    "    score += win-lose\n",
    "\n",
    "    print(\"Epoch {:03d}/{:03d} | Loss {:.4f} | Win/lose count {}/{} ({})\"\n",
    "          .format(e, epoch, loss, win, lose, win-lose))\n",
    "    agent.save()\n",
    "```"
   ]
  },
  {
   "cell_type": "markdown",
   "metadata": {},
   "source": [
    "# The game, *eat cheese*"
   ]
  },
  {
   "cell_type": "markdown",
   "metadata": {},
   "source": [
    "A rat runs on an island and tries to eat as much as possible. The island is subdivided into $N\\times N$ cells, in which there are cheese (+0.5) and poisonous cells (-1). The rat has a visibility of 2 cells (thus it can see $5^2$ cells). The rat is given a time $T$ to accumulate as much food as possible. It can perform 4 actions: going up, down, left, right. \n",
    "\n",
    "The goal is to code an agent to solve this task that will learn by trial and error. We propose the following environment:"
   ]
  },
  {
   "cell_type": "code",
   "execution_count": 4,
   "metadata": {},
   "outputs": [],
   "source": [
    "class Environment(object):\n",
    "    def __init__(self, grid_size=10, max_time=500, temperature=0.1):\n",
    "        grid_size = grid_size+4\n",
    "        self.grid_size = grid_size\n",
    "        self.max_time = max_time\n",
    "        self.temperature = temperature\n",
    "\n",
    "        #board on which one plays\n",
    "        self.board = np.zeros((grid_size,grid_size))\n",
    "        self.position = np.zeros((grid_size,grid_size))\n",
    "\n",
    "        # coordinate of the cat\n",
    "        self.x = 0\n",
    "        self.y = 1\n",
    "\n",
    "        # self time\n",
    "        self.t = 0\n",
    "\n",
    "        self.scale=16\n",
    "\n",
    "        self.to_draw = np.zeros((max_time+2, grid_size*self.scale, grid_size*self.scale, 3))\n",
    "\n",
    "\n",
    "    def draw(self,e):\n",
    "        skvideo.io.vwrite(str(e) + '.mp4', self.to_draw)\n",
    "\n",
    "    def get_frame(self,t):\n",
    "        b = np.zeros((self.grid_size,self.grid_size,3))+128\n",
    "        b[self.board>0,0] = 256\n",
    "        b[self.board < 0, 2] = 256\n",
    "        b[self.x,self.y,:]=256\n",
    "        b[-2:,:,:]=0\n",
    "        b[:,-2:,:]=0\n",
    "        b[:2,:,:]=0\n",
    "        b[:,:2,:]=0\n",
    "        \n",
    "        b =  cv2.resize(b, None, fx=self.scale, fy=self.scale, interpolation=cv2.INTER_NEAREST)\n",
    "\n",
    "        self.to_draw[t,:,:,:]=b\n",
    "\n",
    "\n",
    "    def act(self, action):\n",
    "        \"\"\"This function returns the new state, reward and decides if the\n",
    "        game ends.\"\"\"\n",
    "\n",
    "        self.get_frame(int(self.t))\n",
    "\n",
    "        self.position = np.zeros((self.grid_size, self.grid_size))\n",
    "\n",
    "        self.position[0:2,:]= -1\n",
    "        self.position[:,0:2] = -1\n",
    "        self.position[-2:, :] = -1\n",
    "        self.position[-2:, :] = -1\n",
    "\n",
    "        self.position[self.x, self.y] = 1\n",
    "        if action == 0:\n",
    "            if self.x == self.grid_size-3:\n",
    "                self.x = self.x-1\n",
    "            else:\n",
    "                self.x = self.x + 1\n",
    "        elif action == 1:\n",
    "            if self.x == 2:\n",
    "                self.x = self.x+1\n",
    "            else:\n",
    "                self.x = self.x-1\n",
    "        elif action == 2:\n",
    "            if self.y == self.grid_size - 3:\n",
    "                self.y = self.y - 1\n",
    "            else:\n",
    "                self.y = self.y + 1\n",
    "        elif action == 3:\n",
    "            if self.y == 2:\n",
    "                self.y = self.y + 1\n",
    "            else:\n",
    "                self.y = self.y - 1\n",
    "        else:\n",
    "            RuntimeError('Error: action not recognized')\n",
    "\n",
    "        self.t = self.t + 1\n",
    "        reward = self.board[self.x, self.y]\n",
    "        self.board[self.x, self.y] = 0\n",
    "        game_over = self.t > self.max_time\n",
    "        state = np.concatenate((self.board.reshape(self.grid_size, self.grid_size,1),\n",
    "                        self.position.reshape(self.grid_size, self.grid_size,1)),axis=2)\n",
    "        state = state[self.x-2:self.x+3,self.y-2:self.y+3,:]\n",
    "\n",
    "        return state, reward, game_over\n",
    "\n",
    "    def reset(self):\n",
    "        \"\"\"This function resets the game and returns the initial state\"\"\"\n",
    "\n",
    "        self.x = np.random.randint(3, self.grid_size-3, size=1)[0]\n",
    "        self.y = np.random.randint(3, self.grid_size-3, size=1)[0]\n",
    "\n",
    "\n",
    "        bonus = 0.5*np.random.binomial(1,self.temperature,size=self.grid_size**2)\n",
    "        bonus = bonus.reshape(self.grid_size,self.grid_size)\n",
    "\n",
    "        malus = -1.0*np.random.binomial(1,self.temperature,size=self.grid_size**2)\n",
    "        malus = malus.reshape(self.grid_size, self.grid_size)\n",
    "\n",
    "        self.to_draw = np.zeros((self.max_time+2, self.grid_size*self.scale, self.grid_size*self.scale, 3))\n",
    "\n",
    "\n",
    "        malus[bonus>0]=0\n",
    "\n",
    "        self.board = bonus + malus\n",
    "\n",
    "        self.position = np.zeros((self.grid_size, self.grid_size))\n",
    "        self.position[0:2,:]= -1\n",
    "        self.position[:,0:2] = -1\n",
    "        self.position[-2:, :] = -1\n",
    "        self.position[-2:, :] = -1\n",
    "        self.board[self.x,self.y] = 0\n",
    "        self.t = 0\n",
    "\n",
    "        state = np.concatenate((\n",
    "                               self.board.reshape(self.grid_size, self.grid_size,1),\n",
    "                        self.position.reshape(self.grid_size, self.grid_size,1)),axis=2)\n",
    "\n",
    "        state = state[self.x - 2:self.x + 3, self.y - 2:self.y + 3, :]\n",
    "        return state"
   ]
  },
  {
   "cell_type": "markdown",
   "metadata": {},
   "source": [
    "The following elements are important because they correspond to the hyper parameters for this project:"
   ]
  },
  {
   "cell_type": "code",
   "execution_count": 5,
   "metadata": {},
   "outputs": [],
   "source": [
    "# parameters\n",
    "size = 13\n",
    "T=200\n",
    "temperature=0.3\n",
    "epochs_train=3 # set small when debugging\n",
    "epochs_test=3 # set small when debugging\n",
    "\n",
    "# display videos\n",
    "def display_videos(name):\n",
    "    video = io.open(name, 'r+b').read()\n",
    "    encoded = base64.b64encode(video)\n",
    "    return '''<video alt=\"test\" controls>\n",
    "                <source src=\"data:video/mp4;base64,{0}\" type=\"video/mp4\" />\n",
    "             </video>'''.format(encoded.decode('ascii'))"
   ]
  },
  {
   "cell_type": "markdown",
   "metadata": {},
   "source": [
    "__Question 2__ Explain the use of the arrays ```position``` and ```board```."
   ]
  },
  {
   "cell_type": "markdown",
   "metadata": {},
   "source": [
    "- `position` : an array that contains the all possible positions that can the cat move to, -1 correspond to the borders.\n",
    "- `board` : Contains the rewards (malus (-1), bonus(+0.5) and neutral boxes (0)) "
   ]
  },
  {
   "cell_type": "markdown",
   "metadata": {},
   "source": [
    "## Random Agent"
   ]
  },
  {
   "cell_type": "markdown",
   "metadata": {},
   "source": [
    "***\n",
    "__Question 3__ Implement a random Agent (only ```learned_act``` needs to be implemented):"
   ]
  },
  {
   "cell_type": "code",
   "execution_count": 6,
   "metadata": {},
   "outputs": [],
   "source": [
    "class RandomAgent(Agent):\n",
    "    def __init__(self):\n",
    "        super(RandomAgent, self).__init__()\n",
    "        pass\n",
    "\n",
    "    def learned_act(self, s):\n",
    "        a = np.random.randint(0, self.n_action)\n",
    "        return a"
   ]
  },
  {
   "cell_type": "markdown",
   "metadata": {},
   "source": [
    "***\n",
    "***\n",
    "__Question 4__ Visualize the game moves. You need to fill in the following function for the evaluation:"
   ]
  },
  {
   "cell_type": "code",
   "execution_count": 8,
   "metadata": {},
   "outputs": [],
   "source": [
    "def test(agent,env,epoch,prefix=''):\n",
    "        \n",
    "    # Number of won games\n",
    "    score = 0\n",
    "    loss = 0\n",
    "\n",
    "\n",
    "    for e in range(epoch):\n",
    "        # At each epoch, we restart to a fresh game and get the initial state\n",
    "        state = env.reset()\n",
    "        # This assumes that the games will end\n",
    "        game_over = False\n",
    "\n",
    "        win = 0\n",
    "        lose = 0\n",
    "\n",
    "        while not game_over:\n",
    "            # The agent performs an action\n",
    "            action = agent.act(state)\n",
    "\n",
    "            # Apply an action to the environment, get the next state, the reward\n",
    "            # and if the games end\n",
    "            prev_state = state\n",
    "            state, reward, game_over = env.act(action)\n",
    "\n",
    "            # Update the counters\n",
    "            if reward > 0:\n",
    "                win = win + reward\n",
    "            if reward < 0:\n",
    "                lose = lose - reward\n",
    "\n",
    "            # Apply the reinforcement strategy\n",
    "            loss = agent.reinforce(prev_state, state,  action, reward, game_over)\n",
    "\n",
    "        # Save as a mp4\n",
    "        if e % 10 == 0:\n",
    "            env.draw(e)\n",
    "\n",
    "        # Update stats\n",
    "        score += win-lose\n",
    "\n",
    "        print(\"Win/lose count {}/{}. Average score ({})\"\n",
    "              .format(win, lose, score/(1+e)))\n",
    "        agent.save()"
   ]
  },
  {
   "cell_type": "code",
   "execution_count": 8,
   "metadata": {},
   "outputs": [
    {
     "name": "stdout",
     "output_type": "stream",
     "text": [
      "Win/lose count 7.5/13.0. Average score (-5.5)\n",
      "Win/lose count 13.5/15.0. Average score (-3.5)\n",
      "Win/lose count 8.0/18.0. Average score (-5.666666666666667)\n"
     ]
    },
    {
     "data": {
      "text/html": [
       "<video alt=\"test\" controls>\n",
       "                <source src=\"data:video/mp4;base64,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\" type=\"video/mp4\" />\n",
       "             </video>"
      ],
      "text/plain": [
       "<IPython.core.display.HTML object>"
      ]
     },
     "execution_count": 8,
     "metadata": {},
     "output_type": "execute_result"
    }
   ],
   "source": [
    "# Initialize the game\n",
    "env = Environment(grid_size=size, max_time=T,temperature=temperature)\n",
    "\n",
    "# Initialize the agent!\n",
    "agent = RandomAgent()\n",
    "\n",
    "test(agent,env,epochs_test,prefix='random')\n",
    "HTML(display_videos('random0.mp4'))"
   ]
  },
  {
   "cell_type": "markdown",
   "metadata": {},
   "source": [
    "***\n",
    "## DQN"
   ]
  },
  {
   "cell_type": "markdown",
   "metadata": {},
   "source": [
    "Let us assume here that $T=\\infty$.\n",
    "\n",
    "***\n",
    "__Question 5__ Let $\\pi$ be a policy, show that:\n",
    "\n",
    "\\begin{equation*}\n",
    "Q^{\\pi}(s,a)=E_{(s',a')\\sim p(.|s,a)}[r(s,a)+\\gamma Q^{\\pi}(s',a')]\n",
    "\\end{equation*}\n",
    "\n",
    "Then, show that for the optimal policy $\\pi^*$ (we assume its existence), the following holds: \n",
    "\n",
    "\\begin{equation*}\n",
    "Q^{*}(s,a)=E_{s'\\sim \\pi^*(.|s,a)}[r(s,a)+\\gamma\\max_{a'}Q^{*}(s',a')].\n",
    "\\end{equation*}\n",
    "Finally, deduce that a plausible objective is:\n",
    "\n",
    "\\begin{equation*}\n",
    "\\mathcal{L}(\\theta)=E_{s' \\sim \\pi^*(.|s,a)}\\Vert r+\\gamma\\max\\max_{a'}Q(s',a',\\theta)-Q(s,a,\\theta)\\Vert^{2}.\n",
    "\\end{equation*}\n",
    "\n",
    "\n"
   ]
  },
  {
   "cell_type": "markdown",
   "metadata": {},
   "source": []
  },
  {
   "cell_type": "markdown",
   "metadata": {},
   "source": [
    "***\n",
    "The DQN-learning algorithm relies on these derivations to train the parameters $\\theta$ of a Deep Neural Network:\n",
    "\n",
    "1. At the state $s_t$, select the action $a_t$ with best reward using $Q_t$ and store the results;\n",
    "\n",
    "2. Obtain the new state $s_{t+1}$ from the environment $p$;\n",
    "\n",
    "3. Store $(s_t,a_t,s_{t+1})$;\n",
    "\n",
    "4. Obtain $Q_{t+1}$ by minimizing  $\\mathcal{L}$ from a recovered batch from the previously stored results.\n",
    "\n",
    "***\n",
    "__Question 6__ Implement the class ```Memory``` that stores moves (in a replay buffer) via ```remember``` and provides a ```random_access``` to these. Specify a maximum memory size to avoid side effects. You can for example use a ```list()``` and set by default ```max_memory=100```."
   ]
  },
  {
   "cell_type": "code",
   "execution_count": 9,
   "metadata": {},
   "outputs": [],
   "source": [
    "class Memory(object):\n",
    "    def __init__(self, max_memory=100):\n",
    "        self.max_memory = max_memory\n",
    "        self.memory = list()\n",
    "\n",
    "    def remember(self, m):\n",
    "        n = len(self.memory)\n",
    "        if n < self.max_memory :\n",
    "            self.memory.append(m)\n",
    "            return\n",
    "        i = np.random.randint(low=0,high=n)\n",
    "        self.memory[i] = m\n",
    "\n",
    "    def random_access(self):\n",
    "        i = np.random.randint(low=0,high = len(self.memory))\n",
    "        return self.memory[i]"
   ]
  },
  {
   "cell_type": "markdown",
   "metadata": {},
   "source": [
    "***\n",
    "The pipeline we will use for training is given below:"
   ]
  },
  {
   "cell_type": "code",
   "execution_count": 10,
   "metadata": {},
   "outputs": [],
   "source": [
    "def train(agent,env,epoch,prefix=''):\n",
    "    # Number of won games\n",
    "    score = 0\n",
    "    loss = 0\n",
    "\n",
    "    for e in range(epoch):\n",
    "        # At each epoch, we restart to a fresh game and get the initial state\n",
    "        state = env.reset()\n",
    "        # This assumes that the games will terminate\n",
    "        game_over = False\n",
    "\n",
    "        win = 0\n",
    "        lose = 0\n",
    "\n",
    "        while not game_over:\n",
    "            # The agent performs an action\n",
    "            action = agent.act(state)\n",
    "\n",
    "            # Apply an action to the environment, get the next state, the reward\n",
    "            # and if the games end\n",
    "            prev_state = state\n",
    "            state, reward, game_over = env.act(action)\n",
    "\n",
    "            # Update the counters\n",
    "            if reward > 0:\n",
    "                win = win + reward\n",
    "            if reward < 0:\n",
    "                lose = lose - reward\n",
    "\n",
    "            # Apply the reinforcement strategy\n",
    "        loss = agent.reinforce(prev_state, state,  action, reward, game_over)\n",
    "        agent.history[\"loss\"].append(loss)\n",
    "        agent.history[\"lose\"].append(lose)\n",
    "        agent.history[\"win\"].append(win)\n",
    "        agent.history[\"win_lose\"].append(win-lose)\n",
    "\n",
    "        # Save as a mp4\n",
    "        if True:\n",
    "            env.draw(prefix+str(e))\n",
    "\n",
    "        # Update stats\n",
    "        score += win-lose\n",
    "\n",
    "        print(\"Epoch {:03d}/{:03d} | Loss {:.4f} | Win/lose count {}/{} ({})\"\n",
    "              .format(e, epoch, loss, win, lose, win-lose))\n",
    "        agent.save(name_weights=prefix+'model.h5',name_model=prefix+'model.json')"
   ]
  },
  {
   "cell_type": "markdown",
   "metadata": {},
   "source": [
    "***\n",
    "__Question 7__ Implement the DQN training algorithm using a cascade of fully connected layers. You can use different learning rate, batch size or memory size parameters. In particular, the loss might oscillate while the player will start to win the games. You have to find a good criterium."
   ]
  },
  {
   "cell_type": "code",
   "execution_count": 16,
   "metadata": {},
   "outputs": [],
   "source": [
    "class DQN(Agent):\n",
    "    def __init__(self, grid_size,  epsilon = 0.1, memory_size=100, batch_size = 16,n_state=2):\n",
    "        super(DQN, self).__init__(epsilon = epsilon)\n",
    "\n",
    "        # Discount for Q learning\n",
    "        self.discount = 0.99\n",
    "        \n",
    "        self.grid_size = grid_size\n",
    "        \n",
    "        # number of state\n",
    "        self.n_state = n_state\n",
    "\n",
    "        # Memory\n",
    "        self.memory = Memory(memory_size)\n",
    "        \n",
    "        # Batch size when learning\n",
    "        self.batch_size = batch_size\n",
    "        self.history ={\"loss\":[],\"win\":[],\"lose\":[],\"win_lose\":[]}\n",
    "\n",
    "    def learned_act(self, s):\n",
    "        return np.argmax(self.model.predict(s.reshape([1,s.shape[0],s.shape[1],s.shape[2]]))[0,:])\n",
    "\n",
    "    def reinforce(self, s_, n_s_, a_, r_, game_over_):\n",
    "        # Two steps: first memorize the states, second learn from the pool\n",
    "\n",
    "        self.memory.remember([s_, n_s_, a_, r_, game_over_])\n",
    "        \n",
    "        input_states = np.zeros((self.batch_size, 5,5,self.n_state))\n",
    "        target_q = np.zeros((self.batch_size, 4))\n",
    "        shape = (1,5,5,self.n_state)\n",
    "        for i in range(self.batch_size):\n",
    "            s_i, n_s_i, a_i, r_i, game_over_i  = self.memory.random_access()\n",
    "            q_s_a = self.model.predict(n_s_i.reshape(shape))\n",
    "            target_q[i] = q_s_a\n",
    "            \n",
    "            if game_over_i:\n",
    "                input_states[i] = s_i\n",
    "                target_q[i,a_i] = r_i\n",
    "            else:\n",
    "                \n",
    "                q_s_a = self.model.predict(n_s_i.reshape(shape))\n",
    "                input_states[i] = s_i\n",
    "                target_q[i,a_i] = r_i  + self.discount*np.max(q_s_a)\n",
    "\n",
    "        # HINT: Clip the target to avoid exploiding gradients.. -- clipping is a bit tighter\n",
    "        target_q = np.clip(target_q, -2, 2)\n",
    "\n",
    "        l = self.model.train_on_batch(input_states, target_q)\n",
    "\n",
    "\n",
    "        return l\n",
    "\n",
    "    def save(self,name_weights='model.h5',name_model='model.json'):\n",
    "        self.model.save_weights(name_weights, overwrite=True)\n",
    "        with open(name_model, \"w\") as outfile:\n",
    "            json.dump(self.model.to_json(), outfile)\n",
    "            \n",
    "    def load(self,name_weights='model.h5',name_model='model.json'):\n",
    "        with open(name_model, \"r\") as jfile:\n",
    "            model = model_from_json(json.load(jfile))\n",
    "        model.load_weights(name_weights)\n",
    "        model.compile(\"sgd\", \"mse\")\n",
    "        self.model = model\n",
    "\n",
    "            \n",
    "class DQN_FC(DQN):\n",
    "    def __init__(self, *args, lr=0.1,**kwargs):\n",
    "        super(DQN_FC, self).__init__( *args,**kwargs)\n",
    "        \n",
    "        model = Sequential()\n",
    "        model.add(Flatten(input_shape=(5,5,self.n_state,)))\n",
    "        model.add(Dense(100,activation ='relu'))\n",
    "        model.add(Dense(50,activation ='relu'))\n",
    "        model.add(Dense(4))\n",
    "        model.compile(sgd(lr=lr, decay=1e-4, momentum=0.0), \"mse\")\n",
    "        self.model = model        "
   ]
  },
  {
   "cell_type": "code",
   "execution_count": null,
   "metadata": {},
   "outputs": [],
   "source": [
    "epochs_train = 50\n",
    "env = Environment(grid_size=size, max_time=T, temperature=0.6)\n",
    "agent_fc = DQN_FC(size, lr=.01, epsilon = 0.1, memory_size=3000, batch_size = 32)\n",
    "train(agent_fc, env, epochs_train, prefix='fc_train')"
   ]
  },
  {
   "cell_type": "code",
   "execution_count": null,
   "metadata": {},
   "outputs": [],
   "source": [
    "i = 24\n",
    "HTML(display_videos('fc_train{i}.mp4'.format(i=i)))"
   ]
  },
  {
   "cell_type": "code",
   "execution_count": null,
   "metadata": {},
   "outputs": [],
   "source": [
    "plt.plot(agent_fc.history[\"loss\"])\n",
    "plt.title(\"loss\")\n",
    "plt.figure()\n",
    "plt.plot(agent_fc.history[\"lose\"])\n",
    "plt.title(\"lose\")\n",
    "plt.plot(agent_fc.history[\"win_lose\"])\n",
    "plt.title(\"win_lose\")"
   ]
  },
  {
   "cell_type": "markdown",
   "metadata": {},
   "source": [
    "***\n",
    "***\n",
    "__Question 8__ Implement the DQN training algorithm using a CNN (for example, 2 convolutional layers and one final fully connected layer)."
   ]
  },
  {
   "cell_type": "code",
   "execution_count": 17,
   "metadata": {},
   "outputs": [],
   "source": [
    "class DQN_CNN(DQN):\n",
    "    def __init__(self, *args,lr=0.1,**kwargs):\n",
    "        super(DQN_CNN, self).__init__(*args,**kwargs)\n",
    "        \n",
    "        model = Sequential()\n",
    "        model.add(Conv2D(filters=32,kernel_size=(2,2),strides=(1,1),padding=\"same\",activation=\"relu\",input_shape=(5,5,self.n_state)))\n",
    "        model.add(Conv2D(filters=64,kernel_size=(2,2),strides=(1,1),activation=\"relu\"))\n",
    "        model.add(Flatten())\n",
    "        model.add(Dense(4))\n",
    "        model.compile(sgd(lr=lr, decay=1e-4, momentum=0.0), \"mse\")\n",
    "        self.model = model"
   ]
  },
  {
   "cell_type": "code",
   "execution_count": null,
   "metadata": {},
   "outputs": [],
   "source": [
    "epochs = 10\n",
    "env = Environment(grid_size=size, max_time=T, temperature=0.3)\n",
    "agent = DQN_CNN(size, lr=.01, epsilon = 0.1, memory_size=2000, batch_size = 32)\n",
    "train(agent,env,epochs_train,prefix='cnn_train')\n",
    "HTML(display_videos('cnn_train10.mp4'))"
   ]
  },
  {
   "cell_type": "code",
   "execution_count": null,
   "metadata": {},
   "outputs": [],
   "source": [
    "HTML(display_videos('cnn_train40.mp4'))"
   ]
  },
  {
   "cell_type": "code",
   "execution_count": null,
   "metadata": {},
   "outputs": [],
   "source": [
    "plt.plot(agent_fc.history[\"loss\"])\n",
    "plt.title(\"loss\")\n",
    "plt.figure()\n",
    "plt.plot(agent_fc.history[\"lose\"])\n",
    "plt.title(\"lose\")\n",
    "plt.plot(agent_fc.history[\"win_lose\"])\n",
    "plt.title(\"win_lose\")"
   ]
  },
  {
   "cell_type": "markdown",
   "metadata": {},
   "source": [
    "***\n",
    "***\n",
    "__Question 9__ Test both algorithms and compare their performances. Which issue(s) do you observe? Observe also different behaviors by changing the temperature."
   ]
  },
  {
   "cell_type": "code",
   "execution_count": null,
   "metadata": {},
   "outputs": [],
   "source": [
    "env = Environment(grid_size=size, max_time=T,temperature=0.3)\n",
    "agent_cnn = DQN_CNN(size, lr=.1, epsilon = 0.1, memory_size=2000, batch_size = 32)\n",
    "agent_cnn.load(name_weights='cnn_trainmodel.h5',name_model='cnn_trainmodel.json')\n",
    "\n",
    "agent_fc = DQN_FC(size, lr=.1, epsilon = 0.1, memory_size=2000, batch_size = 32)\n",
    "agent_cnn.load(name_weights='fc_trainmodel.h5',name_model='fc_trainmodel.json')\n",
    "print('Test of the CNN')\n",
    "test(agent_cnn,env,epochs_test,prefix='cnn_test')\n",
    "print('Test of the FC')\n",
    "test(agent_fc,env,epochs_test,prefix='fc_test')"
   ]
  },
  {
   "cell_type": "code",
   "execution_count": 21,
   "metadata": {},
   "outputs": [
    {
     "ename": "FileNotFoundError",
     "evalue": "[Errno 2] No such file or directory: 'cnn_test0.mp4'",
     "output_type": "error",
     "traceback": [
      "\u001b[1;31m---------------------------------------------------------------------------\u001b[0m",
      "\u001b[1;31mFileNotFoundError\u001b[0m                         Traceback (most recent call last)",
      "\u001b[1;32m<ipython-input-21-918a8310f7f5>\u001b[0m in \u001b[0;36m<module>\u001b[1;34m\u001b[0m\n\u001b[1;32m----> 1\u001b[1;33m \u001b[0mHTML\u001b[0m\u001b[1;33m(\u001b[0m\u001b[0mdisplay_videos\u001b[0m\u001b[1;33m(\u001b[0m\u001b[1;34m'cnn_test0.mp4'\u001b[0m\u001b[1;33m)\u001b[0m\u001b[1;33m)\u001b[0m\u001b[1;33m\u001b[0m\u001b[0m\n\u001b[0m",
      "\u001b[1;32m<ipython-input-5-264b4800cff1>\u001b[0m in \u001b[0;36mdisplay_videos\u001b[1;34m(name)\u001b[0m\n\u001b[0;32m      8\u001b[0m \u001b[1;31m# display videos\u001b[0m\u001b[1;33m\u001b[0m\u001b[1;33m\u001b[0m\u001b[0m\n\u001b[0;32m      9\u001b[0m \u001b[1;32mdef\u001b[0m \u001b[0mdisplay_videos\u001b[0m\u001b[1;33m(\u001b[0m\u001b[0mname\u001b[0m\u001b[1;33m)\u001b[0m\u001b[1;33m:\u001b[0m\u001b[1;33m\u001b[0m\u001b[0m\n\u001b[1;32m---> 10\u001b[1;33m     \u001b[0mvideo\u001b[0m \u001b[1;33m=\u001b[0m \u001b[0mio\u001b[0m\u001b[1;33m.\u001b[0m\u001b[0mopen\u001b[0m\u001b[1;33m(\u001b[0m\u001b[0mname\u001b[0m\u001b[1;33m,\u001b[0m \u001b[1;34m'r+b'\u001b[0m\u001b[1;33m)\u001b[0m\u001b[1;33m.\u001b[0m\u001b[0mread\u001b[0m\u001b[1;33m(\u001b[0m\u001b[1;33m)\u001b[0m\u001b[1;33m\u001b[0m\u001b[0m\n\u001b[0m\u001b[0;32m     11\u001b[0m     \u001b[0mencoded\u001b[0m \u001b[1;33m=\u001b[0m \u001b[0mbase64\u001b[0m\u001b[1;33m.\u001b[0m\u001b[0mb64encode\u001b[0m\u001b[1;33m(\u001b[0m\u001b[0mvideo\u001b[0m\u001b[1;33m)\u001b[0m\u001b[1;33m\u001b[0m\u001b[0m\n\u001b[0;32m     12\u001b[0m     return '''<video alt=\"test\" controls>\n",
      "\u001b[1;31mFileNotFoundError\u001b[0m: [Errno 2] No such file or directory: 'cnn_test0.mp4'"
     ]
    }
   ],
   "source": [
    "HTML(display_videos('cnn_test0.mp4'))"
   ]
  },
  {
   "cell_type": "code",
   "execution_count": null,
   "metadata": {
    "collapsed": true
   },
   "outputs": [],
   "source": [
    "HTML(display_videos('fc_test10.mp4'))"
   ]
  },
  {
   "cell_type": "markdown",
   "metadata": {},
   "source": []
  },
  {
   "cell_type": "markdown",
   "metadata": {},
   "source": [
    "***\n",
    "\n",
    "The algorithm tends to not explore the map which can be an issue. We propose two ideas in order to encourage exploration:\n",
    "1. Incorporating a decreasing $\\epsilon$-greedy exploration. You can use the method ```set_epsilon```\n",
    "2. Append via the environment a new state that describes if a cell has been visited or not\n",
    "\n",
    "***\n",
    "__Question 10__ Design a new ```train_explore``` function and environment class ```EnvironmentExploring``` to tackle the issue of exploration.\n",
    "\n"
   ]
  },
  {
   "cell_type": "code",
   "execution_count": 18,
   "metadata": {},
   "outputs": [],
   "source": [
    "def train_explore(agent,env,epoch,prefix=''):\n",
    "    # Number of won games\n",
    "    score = 0\n",
    "    loss = 0\n",
    "    espsilon0 = 0.8\n",
    "    decay_rate = 0.95\n",
    "\n",
    "    for e in range(epoch):\n",
    "        # At each epoch, we restart to a fresh game and get the initial state\n",
    "        state = env.reset()\n",
    "        # This assumes that the games will terminate\n",
    "        game_over = False\n",
    "\n",
    "        win = 0\n",
    "        lose = 0\n",
    "        \n",
    "        #### Exploraton probability\n",
    "        agent.set_epsilon(espsilon0 * (decay_rate**e) )\n",
    "\n",
    "        while not game_over:\n",
    "            # The agent performs an action\n",
    "            action = agent.act(state)\n",
    "\n",
    "            # Apply an action to the environment, get the next state, the reward\n",
    "            # and if the games end\n",
    "            prev_state = state\n",
    "            state, reward, game_over = env.act(action , train = True)\n",
    "\n",
    "            # Update the counters\n",
    "            if reward > 0:\n",
    "                win = win + reward\n",
    "            if reward < 0:\n",
    "                lose = lose -reward\n",
    "\n",
    "            # Apply the reinforcement strategy\n",
    "            loss = agent.reinforce(prev_state, state,  action, reward, game_over)\n",
    "\n",
    "        # Save as a mp4\n",
    "        if e % 10 == 0:\n",
    "            env.draw(prefix+str(e))\n",
    "\n",
    "        # Update stats\n",
    "        score += win-lose\n",
    "\n",
    "        print(\"Epoch {:03d}/{:03d} | Loss {:.4f} | Win/lose count {}/{} ({})\"\n",
    "              .format(e, epoch, loss, win, lose, win-lose))\n",
    "        agent.save(name_weights=prefix+'model.h5',name_model=prefix+'model.json')\n",
    "        \n",
    "        \n",
    "\n",
    "        \n",
    "class EnvironmentExploring(Environment):\n",
    "    def __init__(self, grid_size=10, max_time=500, temperature=0.1):\n",
    "        super(EnvironmentExploring, self).__init__(grid_size, max_time, temperature)\n",
    "    \n",
    "    def act(self, action , train = True):\n",
    "        \"\"\"This function returns the new state, reward and decides if the\n",
    "        game ends.\"\"\"\n",
    "\n",
    "        self.get_frame(int(self.t))\n",
    "\n",
    "        self.position = np.zeros((self.grid_size, self.grid_size))\n",
    "\n",
    "        self.position[0:2,:]= -1\n",
    "        self.position[:,0:2] = -1\n",
    "        self.position[-2:, :] = -1\n",
    "        self.position[-2:, :] = -1\n",
    "\n",
    "        self.position[self.x, self.y] = 1\n",
    "        if action == 0:\n",
    "            if self.x == self.grid_size-3:\n",
    "                self.x = self.x-1\n",
    "            else:\n",
    "                self.x = self.x + 1\n",
    "        elif action == 1:\n",
    "            if self.x == 2:\n",
    "                self.x = self.x+1\n",
    "            else:\n",
    "                self.x = self.x-1\n",
    "        elif action == 2:\n",
    "            if self.y == self.grid_size - 3:\n",
    "                self.y = self.y - 1\n",
    "            else:\n",
    "                self.y = self.y + 1\n",
    "        elif action == 3:\n",
    "            if self.y == 2:\n",
    "                self.y = self.y + 1\n",
    "            else:\n",
    "                self.y = self.y - 1\n",
    "        else:\n",
    "            RuntimeError('Error: action not recognized')\n",
    "\n",
    "        self.t = self.t + 1\n",
    "        reward = self.board[self.x, self.y]\n",
    "        self.board[self.x, self.y] = 0\n",
    "        # Exploration\n",
    "        if train:\n",
    "            reward -= self.malus_position[self.x, self.y]\n",
    "        self.malus_position[self.x, self.y] = 0.1\n",
    "        game_over = self.t > self.max_time\n",
    "        \n",
    "        state = np.concatenate((self.malus_position.reshape(self.grid_size, self.grid_size,1),\n",
    "                                self.board.reshape(self.grid_size, self.grid_size,1),\n",
    "                        self.position.reshape(self.grid_size, self.grid_size,1)),axis=2)\n",
    "        \n",
    "        state = state[self.x-2:self.x+3,self.y-2:self.y+3,:]\n",
    "\n",
    "        return state, reward, game_over\n",
    "\n",
    "    def reset(self):\n",
    "        \"\"\"This function resets the game and returns the initial state\"\"\"\n",
    "\n",
    "        self.x = np.random.randint(3, self.grid_size-3, size=1)[0]\n",
    "        self.y = np.random.randint(3, self.grid_size-3, size=1)[0]\n",
    "\n",
    "\n",
    "        bonus = 0.5*np.random.binomial(1,self.temperature,size=self.grid_size**2)\n",
    "        bonus = bonus.reshape(self.grid_size,self.grid_size)\n",
    "\n",
    "        malus = -1.0*np.random.binomial(1,self.temperature,size=self.grid_size**2)\n",
    "        malus = malus.reshape(self.grid_size, self.grid_size)\n",
    "\n",
    "        self.to_draw = np.zeros((self.max_time+2, self.grid_size*self.scale, self.grid_size*self.scale, 3))\n",
    "        malus[bonus>0] = 0\n",
    "\n",
    "        self.board = bonus + malus\n",
    "\n",
    "        self.position = np.zeros((self.grid_size, self.grid_size))\n",
    "        self.malus_position = np.zeros((self.grid_size,self.grid_size))\n",
    "        \n",
    "        self.position[0:2,:] = -1\n",
    "        self.position[:,0:2] = -1\n",
    "        self.position[-2:, :] = -1\n",
    "        self.position[-2:, :] = -1\n",
    "        \n",
    "        self.board[self.x,self.y] = 0\n",
    "        self.malus_position[self.x, self.y] = 0.1\n",
    "        \n",
    "        self.t = 0\n",
    "\n",
    "        state = np.concatenate((self.malus_position.reshape(self.grid_size, self.grid_size,1),\n",
    "                                self.board.reshape(self.grid_size, self.grid_size,1),\n",
    "                        self.position.reshape(self.grid_size, self.grid_size,1)),axis=2)\n",
    "\n",
    "        state = state[self.x - 2:self.x + 3, self.y - 2:self.y + 3, :]\n",
    "        return state"
   ]
  },
  {
   "cell_type": "code",
   "execution_count": 21,
   "metadata": {},
   "outputs": [
    {
     "data": {
      "text/html": [
       "<video alt=\"test\" controls>\n",
       "                <source src=\"data:video/mp4;base64,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\" type=\"video/mp4\" />\n",
       "             </video>"
      ],
      "text/plain": [
       "<IPython.core.display.HTML object>"
      ]
     },
     "execution_count": 21,
     "metadata": {},
     "output_type": "execute_result"
    }
   ],
   "source": [
    "HTML(display_videos('cnn_train_explore33.mp4'))"
   ]
  },
  {
   "cell_type": "code",
   "execution_count": 49,
   "metadata": {},
   "outputs": [],
   "source": [
    "env = Environment(grid_size=size, max_time=T, temperature=0.3)"
   ]
  },
  {
   "cell_type": "code",
   "execution_count": 50,
   "metadata": {},
   "outputs": [
    {
     "data": {
      "text/plain": [
       "['__class__',\n",
       " '__delattr__',\n",
       " '__dict__',\n",
       " '__dir__',\n",
       " '__doc__',\n",
       " '__eq__',\n",
       " '__format__',\n",
       " '__ge__',\n",
       " '__getattribute__',\n",
       " '__gt__',\n",
       " '__hash__',\n",
       " '__init__',\n",
       " '__le__',\n",
       " '__lt__',\n",
       " '__module__',\n",
       " '__ne__',\n",
       " '__new__',\n",
       " '__reduce__',\n",
       " '__reduce_ex__',\n",
       " '__repr__',\n",
       " '__setattr__',\n",
       " '__sizeof__',\n",
       " '__str__',\n",
       " '__subclasshook__',\n",
       " '__weakref__',\n",
       " 'act',\n",
       " 'board',\n",
       " 'draw',\n",
       " 'get_frame',\n",
       " 'grid_size',\n",
       " 'max_time',\n",
       " 'position',\n",
       " 'reset',\n",
       " 'scale',\n",
       " 't',\n",
       " 'temperature',\n",
       " 'to_draw',\n",
       " 'x',\n",
       " 'y']"
      ]
     },
     "execution_count": 50,
     "metadata": {},
     "output_type": "execute_result"
    }
   ],
   "source": []
  },
  {
   "cell_type": "markdown",
   "metadata": {},
   "source": [
    "***\n",
    "***\n",
    "__BONUS question__ Use the expert DQN from the previous question to generate some winning games. Train a model that mimicks its behavior. Compare the performances."
   ]
  },
  {
   "cell_type": "markdown",
   "metadata": {},
   "source": []
  },
  {
   "cell_type": "markdown",
   "metadata": {},
   "source": [
    "***"
   ]
  }
 ],
 "metadata": {
  "kernelspec": {
   "display_name": "Python 3",
   "language": "python",
   "name": "python3"
  },
  "language_info": {
   "codemirror_mode": {
    "name": "ipython",
    "version": 3
   },
   "file_extension": ".py",
   "mimetype": "text/x-python",
   "name": "python",
   "nbconvert_exporter": "python",
   "pygments_lexer": "ipython3",
   "version": "3.5.4"
  }
 },
 "nbformat": 4,
 "nbformat_minor": 2
}
